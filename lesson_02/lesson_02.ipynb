{
 "cells": [
  {
   "cell_type": "markdown",
   "metadata": {},
   "source": [
    "## Урок 2. Keras"
   ]
  },
  {
   "cell_type": "code",
   "execution_count": 8,
   "metadata": {},
   "outputs": [],
   "source": [
    "#!pip install tensorflow\n",
    "#!pip install keras\n",
    "#!pip install mnist"
   ]
  },
  {
   "cell_type": "code",
   "execution_count": 7,
   "metadata": {},
   "outputs": [],
   "source": [
    "import numpy as np\n",
    "import mnist\n",
    "from keras.models import Sequential\n",
    "from keras.layers import Dense\n",
    "from keras.utils import to_categorical\n",
    "import matplotlib.pyplot as plt"
   ]
  },
  {
   "cell_type": "code",
   "execution_count": 9,
   "metadata": {},
   "outputs": [],
   "source": [
    "train_images = mnist.train_images()\n",
    "train_labels = mnist.train_labels()\n",
    "test_images = mnist.test_images()\n",
    "test_labels = mnist.test_labels()"
   ]
  },
  {
   "cell_type": "code",
   "execution_count": 29,
   "metadata": {},
   "outputs": [
    {
     "data": {
      "image/png": "[encoded data removed]",
      "text/plain": [
       "<Figure size 720x720 with 25 Axes>"
      ]
     },
     "metadata": {},
     "output_type": "display_data"
    }
   ],
   "source": [
    "plt.figure(figsize=(10,10))\n",
    "for i in range(25):\n",
    "    plt.subplot(5,5,i+1)\n",
    "    plt.xticks([])\n",
    "    plt.yticks([])\n",
    "    plt.grid(False)\n",
    "    plt.imshow(train_images[i], cmap=plt.cm.binary)\n",
    "    plt.xlabel(train_labels[i])\n",
    "plt.show()"
   ]
  },
  {
   "cell_type": "code",
   "execution_count": 10,
   "metadata": {},
   "outputs": [],
   "source": [
    "# Normalize the images.\n",
    "train_images = (train_images / 255) - 0.5\n",
    "test_images = (test_images / 255) - 0.5"
   ]
  },
  {
   "cell_type": "code",
   "execution_count": 11,
   "metadata": {},
   "outputs": [],
   "source": [
    "# Flatten the images.\n",
    "train_images = train_images.reshape((-1, 784))\n",
    "test_images = test_images.reshape((-1, 784))"
   ]
  },
  {
   "cell_type": "code",
   "execution_count": 12,
   "metadata": {},
   "outputs": [],
   "source": [
    "# Build the model.\n",
    "model = Sequential([\n",
    "  Dense(64, activation='relu', input_shape=(784,)),\n",
    "  Dense(64, activation='relu'),\n",
    "  Dense(10, activation='softmax'),\n",
    "])"
   ]
  },
  {
   "cell_type": "code",
   "execution_count": 13,
   "metadata": {},
   "outputs": [],
   "source": [
    "# Compile the model.\n",
    "model.compile(\n",
    "  optimizer='adam',\n",
    "  loss='categorical_crossentropy',\n",
    "  metrics=['accuracy'],\n",
    ")"
   ]
  },
  {
   "cell_type": "code",
   "execution_count": 14,
   "metadata": {},
   "outputs": [
    {
     "name": "stdout",
     "output_type": "stream",
     "text": [
      "Epoch 1/5\n",
      "1875/1875 [==============================] - 4s 2ms/step - loss: 0.3714 - accuracy: 0.8878\n",
      "Epoch 2/5\n",
      "1875/1875 [==============================] - 4s 2ms/step - loss: 0.1891 - accuracy: 0.9419\n",
      "Epoch 3/5\n",
      "1875/1875 [==============================] - 5s 2ms/step - loss: 0.1455 - accuracy: 0.9550\n",
      "Epoch 4/5\n",
      "1875/1875 [==============================] - 4s 2ms/step - loss: 0.1222 - accuracy: 0.9623\n",
      "Epoch 5/5\n",
      "1875/1875 [==============================] - 4s 2ms/step - loss: 0.1081 - accuracy: 0.9651\n"
     ]
    },
    {
     "data": {
      "text/plain": [
       "<tensorflow.python.keras.callbacks.History at 0x7f6ed6fc14a8>"
      ]
     },
     "execution_count": 14,
     "metadata": {},
     "output_type": "execute_result"
    }
   ],
   "source": [
    "# Train the model.\n",
    "model.fit(\n",
    "  train_images,\n",
    "  to_categorical(train_labels),\n",
    "  epochs=5,\n",
    "  batch_size=32,\n",
    ")"
   ]
  },
  {
   "cell_type": "code",
   "execution_count": 15,
   "metadata": {},
   "outputs": [
    {
     "name": "stdout",
     "output_type": "stream",
     "text": [
      "313/313 [==============================] - 0s 2ms/step - loss: 0.1104 - accuracy: 0.9671\n"
     ]
    },
    {
     "data": {
      "text/plain": [
       "[0.11039181798696518, 0.9671000242233276]"
      ]
     },
     "execution_count": 15,
     "metadata": {},
     "output_type": "execute_result"
    }
   ],
   "source": [
    "# Evaluate the model.\n",
    "model.evaluate(\n",
    "  test_images,\n",
    "  to_categorical(test_labels)\n",
    ")"
   ]
  },
  {
   "cell_type": "code",
   "execution_count": 16,
   "metadata": {},
   "outputs": [],
   "source": [
    "# Save the model to disk.\n",
    "model.save_weights('model.h5')"
   ]
  },
  {
   "cell_type": "code",
   "execution_count": 17,
   "metadata": {},
   "outputs": [],
   "source": [
    "# Load the model from disk later using:\n",
    "# model.load_weights('model.h5')"
   ]
  },
  {
   "cell_type": "code",
   "execution_count": 18,
   "metadata": {},
   "outputs": [],
   "source": [
    "# Predict on the first 5 test images.\n",
    "predictions = model.predict(test_images[:5])"
   ]
  },
  {
   "cell_type": "code",
   "execution_count": 19,
   "metadata": {},
   "outputs": [
    {
     "name": "stdout",
     "output_type": "stream",
     "text": [
      "[7 2 1 0 4]\n"
     ]
    }
   ],
   "source": [
    "# Print our model's predictions.\n",
    "print(np.argmax(predictions, axis=1)) # [7, 2, 1, 0, 4]"
   ]
  },
  {
   "cell_type": "code",
   "execution_count": 20,
   "metadata": {},
   "outputs": [
    {
     "name": "stdout",
     "output_type": "stream",
     "text": [
      "[7 2 1 0 4]\n"
     ]
    }
   ],
   "source": [
    "# Check our predictions against the ground truths.\n",
    "print(test_labels[:5]) # [7, 2, 1, 0, 4]"
   ]
  },
  {
   "cell_type": "markdown",
   "metadata": {},
   "source": [
    "### Практическое задание"
   ]
  },
  {
   "cell_type": "markdown",
   "metadata": {},
   "source": [
    "**1. Попробуйте обучить нейронную сеть на Keras(рассмотренную на уроке) на датасете MNIST с другими параметрами. Опишите в комментарии к уроку - какой результата вы добились от нейросети? Что помогло вам улучшить ее точность?**"
   ]
  },
  {
   "cell_type": "markdown",
   "metadata": {},
   "source": [
    "**Посмотрим как повлияет на точность увеличение количества \"эпох\" (epochs) например до 20 или количества нейронов во внутренних слоях нейросети (например до 512):**"
   ]
  },
  {
   "cell_type": "code",
   "execution_count": 43,
   "metadata": {},
   "outputs": [
    {
     "name": "stdout",
     "output_type": "stream",
     "text": [
      "Epoch 1/20\n",
      "1875/1875 [==============================] - 4s 2ms/step - loss: 0.3602 - accuracy: 0.8923\n",
      "Epoch 2/20\n",
      "1875/1875 [==============================] - 4s 2ms/step - loss: 0.1874 - accuracy: 0.9427\n",
      "Epoch 3/20\n",
      "1875/1875 [==============================] - 6s 3ms/step - loss: 0.1421 - accuracy: 0.9563\n",
      "Epoch 4/20\n",
      "1875/1875 [==============================] - 5s 3ms/step - loss: 0.1194 - accuracy: 0.9630\n",
      "Epoch 5/20\n",
      "1875/1875 [==============================] - 4s 2ms/step - loss: 0.1040 - accuracy: 0.9675\n",
      "Epoch 6/20\n",
      "1875/1875 [==============================] - 4s 2ms/step - loss: 0.0930 - accuracy: 0.9708\n",
      "Epoch 7/20\n",
      "1875/1875 [==============================] - 4s 2ms/step - loss: 0.0836 - accuracy: 0.9737\n",
      "Epoch 8/20\n",
      "1875/1875 [==============================] - 4s 2ms/step - loss: 0.0784 - accuracy: 0.9743\n",
      "Epoch 9/20\n",
      "1875/1875 [==============================] - 4s 2ms/step - loss: 0.0722 - accuracy: 0.9764\n",
      "Epoch 10/20\n",
      "1875/1875 [==============================] - 4s 2ms/step - loss: 0.0677 - accuracy: 0.9778\n",
      "Epoch 11/20\n",
      "1875/1875 [==============================] - 4s 2ms/step - loss: 0.0624 - accuracy: 0.9797\n",
      "Epoch 12/20\n",
      "1875/1875 [==============================] - 4s 2ms/step - loss: 0.0587 - accuracy: 0.9804\n",
      "Epoch 13/20\n",
      "1875/1875 [==============================] - 4s 2ms/step - loss: 0.0546 - accuracy: 0.9816\n",
      "Epoch 14/20\n",
      "1875/1875 [==============================] - 4s 2ms/step - loss: 0.0523 - accuracy: 0.9826\n",
      "Epoch 15/20\n",
      "1875/1875 [==============================] - 4s 2ms/step - loss: 0.0475 - accuracy: 0.9843\n",
      "Epoch 16/20\n",
      "1875/1875 [==============================] - 5s 2ms/step - loss: 0.0463 - accuracy: 0.9843\n",
      "Epoch 17/20\n",
      "1875/1875 [==============================] - 4s 2ms/step - loss: 0.0442 - accuracy: 0.9853\n",
      "Epoch 18/20\n",
      "1875/1875 [==============================] - 4s 2ms/step - loss: 0.0412 - accuracy: 0.9860\n",
      "Epoch 19/20\n",
      "1875/1875 [==============================] - 4s 2ms/step - loss: 0.0407 - accuracy: 0.9861\n",
      "Epoch 20/20\n",
      "1875/1875 [==============================] - 5s 2ms/step - loss: 0.0392 - accuracy: 0.9871\n",
      "---------------------------------------------------------------------\n",
      "test data loss/accuracy\n",
      "313/313 [==============================] - 0s 2ms/step - loss: 0.1035 - accuracy: 0.9708\n"
     ]
    },
    {
     "data": {
      "text/plain": [
       "[0.10352256149053574, 0.97079998254776]"
      ]
     },
     "execution_count": 43,
     "metadata": {},
     "output_type": "execute_result"
    }
   ],
   "source": [
    "# Build the model.\n",
    "model_01 = Sequential([\n",
    "  Dense(64, activation='relu', input_shape=(784,)),\n",
    "  Dense(64, activation='relu'),\n",
    "  Dense(10, activation='softmax'),\n",
    "])\n",
    "# Compile the model.\n",
    "model_01.compile(\n",
    "  optimizer='adam',\n",
    "  loss='categorical_crossentropy',\n",
    "  metrics=['accuracy'],\n",
    ")\n",
    "# Train the model.\n",
    "model_01.fit(\n",
    "  train_images,\n",
    "  to_categorical(train_labels),\n",
    "  epochs=20,\n",
    "  batch_size=32,\n",
    ")\n",
    "# Evaluate the model.\n",
    "print('---------------------------------------------------------------------')\n",
    "print('test data loss/accuracy')\n",
    "model_01.evaluate(\n",
    "  test_images,\n",
    "  to_categorical(test_labels)\n",
    ")"
   ]
  },
  {
   "cell_type": "code",
   "execution_count": 72,
   "metadata": {},
   "outputs": [
    {
     "name": "stdout",
     "output_type": "stream",
     "text": [
      "Epoch 1/5\n",
      "1875/1875 [==============================] - 16s 9ms/step - loss: 0.2620 - accuracy: 0.9180\n",
      "Epoch 2/5\n",
      "1875/1875 [==============================] - 16s 9ms/step - loss: 0.1325 - accuracy: 0.9588\n",
      "Epoch 3/5\n",
      "1875/1875 [==============================] - 16s 9ms/step - loss: 0.1014 - accuracy: 0.9683\n",
      "Epoch 4/5\n",
      "1875/1875 [==============================] - 17s 9ms/step - loss: 0.0862 - accuracy: 0.9729\n",
      "Epoch 5/5\n",
      "1875/1875 [==============================] - 18s 9ms/step - loss: 0.0705 - accuracy: 0.9776\n",
      "---------------------------------------------------------------------\n",
      "test data loss/accuracy\n",
      "313/313 [==============================] - 1s 4ms/step - loss: 0.0922 - accuracy: 0.9730\n"
     ]
    },
    {
     "data": {
      "text/plain": [
       "[0.09222609549760818, 0.9729999899864197]"
      ]
     },
     "execution_count": 72,
     "metadata": {},
     "output_type": "execute_result"
    }
   ],
   "source": [
    "# Build the model.\n",
    "model_01 = Sequential([\n",
    "  Dense(512, activation='relu', input_shape=(784,)),\n",
    "  Dense(512, activation='relu'),\n",
    "  Dense(10, activation='softmax'),\n",
    "])\n",
    "# Compile the model.\n",
    "model_01.compile(\n",
    "  optimizer='adam',\n",
    "  loss='categorical_crossentropy',\n",
    "  metrics=['accuracy'],\n",
    ")\n",
    "# Train the model.\n",
    "model_01.fit(\n",
    "  train_images,\n",
    "  to_categorical(train_labels),\n",
    "  epochs=5,\n",
    "  batch_size=32,\n",
    ")\n",
    "# Evaluate the model.\n",
    "print('---------------------------------------------------------------------')\n",
    "print('test data loss/accuracy')\n",
    "model_01.evaluate(\n",
    "  test_images,\n",
    "  to_categorical(test_labels)\n",
    ")"
   ]
  },
  {
   "cell_type": "markdown",
   "metadata": {},
   "source": [
    "**Заметен определенный прирост в точности, но также и значительное увеличение затрат времени на обучение.**  \n",
    "**Помимо этого, наблюдаем признаки переобучения - существенно возросла точность на тренировочных данных, но при этом большой разрыв с точностью на тестовых. Попробуем найти компромисс посередине - увеличим количество нейронов во внутренних слоях до 256 и количетво эпох до 7:**"
   ]
  },
  {
   "cell_type": "code",
   "execution_count": 67,
   "metadata": {},
   "outputs": [
    {
     "name": "stdout",
     "output_type": "stream",
     "text": [
      "Epoch 1/7\n",
      "1875/1875 [==============================] - 8s 4ms/step - loss: 0.2784 - accuracy: 0.9139\n",
      "Epoch 2/7\n",
      "1875/1875 [==============================] - 8s 4ms/step - loss: 0.1372 - accuracy: 0.9569\n",
      "Epoch 3/7\n",
      "1875/1875 [==============================] - 8s 4ms/step - loss: 0.1049 - accuracy: 0.9675\n",
      "Epoch 4/7\n",
      "1875/1875 [==============================] - 8s 4ms/step - loss: 0.0857 - accuracy: 0.9731\n",
      "Epoch 5/7\n",
      "1875/1875 [==============================] - 8s 4ms/step - loss: 0.0742 - accuracy: 0.9762\n",
      "Epoch 6/7\n",
      "1875/1875 [==============================] - 8s 4ms/step - loss: 0.0627 - accuracy: 0.9797\n",
      "Epoch 7/7\n",
      "1875/1875 [==============================] - 8s 4ms/step - loss: 0.0554 - accuracy: 0.9820\n",
      "---------------------------------------------------------------------\n",
      "test data loss/accuracy\n",
      "313/313 [==============================] - 1s 2ms/step - loss: 0.0894 - accuracy: 0.9744\n"
     ]
    },
    {
     "data": {
      "text/plain": [
       "[0.08944139629602432, 0.974399983882904]"
      ]
     },
     "execution_count": 67,
     "metadata": {},
     "output_type": "execute_result"
    }
   ],
   "source": [
    "# Build the model.\n",
    "model_01 = Sequential([\n",
    "  Dense(256, activation='relu', input_shape=(784,)),\n",
    "  Dense(256, activation='relu'),\n",
    "  Dense(10, activation='softmax'),\n",
    "])\n",
    "# Compile the model.\n",
    "model_01.compile(\n",
    "  optimizer='adam',\n",
    "  loss='categorical_crossentropy',\n",
    "  metrics=['accuracy'],\n",
    ")\n",
    "# Train the model.\n",
    "model_01.fit(\n",
    "  train_images,\n",
    "  to_categorical(train_labels),\n",
    "  epochs=7,\n",
    "  batch_size=32,\n",
    ")\n",
    "# Evaluate the model.\n",
    "print('---------------------------------------------------------------------')\n",
    "print('test data loss/accuracy')\n",
    "model_01.evaluate(\n",
    "  test_images,\n",
    "  to_categorical(test_labels)\n",
    ")"
   ]
  },
  {
   "cell_type": "markdown",
   "metadata": {},
   "source": [
    "**Как и ожидалось, получили нечто среднее по качеству и временным затратам на обучение.**"
   ]
  },
  {
   "cell_type": "markdown",
   "metadata": {},
   "source": [
    "**Вывод: для повышения точности в данном случае можно увеличивать количество нейронов на внутренних слоях нейросети и количество \"эпох\" при обучении. Но это имеет смысл лишь до определенных пределов. Так, неразумное увеличение данных параметров приводит к переобучению, плюс после какого-то момента вряд ли принесет прирост качества сопоставимый с временными затратами на обучение нейросети.**"
   ]
  },
  {
   "cell_type": "markdown",
   "metadata": {},
   "source": [
    "**2. Поработайте с документацией Keras. Попробуйте найти полезные команды Keras неразобранные на уроке.**"
   ]
  },
  {
   "cell_type": "code",
   "execution_count": 83,
   "metadata": {},
   "outputs": [
    {
     "name": "stdout",
     "output_type": "stream",
     "text": [
      "Model: \"sequential\"\n",
      "_________________________________________________________________\n",
      "Layer (type)                 Output Shape              Param #   \n",
      "=================================================================\n",
      "dense (Dense)                (None, 64)                50240     \n",
      "_________________________________________________________________\n",
      "dense_1 (Dense)              (None, 64)                4160      \n",
      "_________________________________________________________________\n",
      "dense_2 (Dense)              (None, 10)                650       \n",
      "=================================================================\n",
      "Total params: 55,050\n",
      "Trainable params: 55,050\n",
      "Non-trainable params: 0\n",
      "_________________________________________________________________\n"
     ]
    }
   ],
   "source": [
    "# саммари модели\n",
    "model.summary()"
   ]
  },
  {
   "cell_type": "code",
   "execution_count": 82,
   "metadata": {},
   "outputs": [
    {
     "data": {
      "text/plain": [
       "{'name': 'sequential',\n",
       " 'layers': [{'class_name': 'InputLayer',\n",
       "   'config': {'batch_input_shape': (None, 784),\n",
       "    'dtype': 'float32',\n",
       "    'sparse': False,\n",
       "    'ragged': False,\n",
       "    'name': 'dense_input'}},\n",
       "  {'class_name': 'Dense',\n",
       "   'config': {'name': 'dense',\n",
       "    'trainable': True,\n",
       "    'batch_input_shape': (None, 784),\n",
       "    'dtype': 'float32',\n",
       "    'units': 64,\n",
       "    'activation': 'relu',\n",
       "    'use_bias': True,\n",
       "    'kernel_initializer': {'class_name': 'GlorotUniform',\n",
       "     'config': {'seed': None}},\n",
       "    'bias_initializer': {'class_name': 'Zeros', 'config': {}},\n",
       "    'kernel_regularizer': None,\n",
       "    'bias_regularizer': None,\n",
       "    'activity_regularizer': None,\n",
       "    'kernel_constraint': None,\n",
       "    'bias_constraint': None}},\n",
       "  {'class_name': 'Dense',\n",
       "   'config': {'name': 'dense_1',\n",
       "    'trainable': True,\n",
       "    'dtype': 'float32',\n",
       "    'units': 64,\n",
       "    'activation': 'relu',\n",
       "    'use_bias': True,\n",
       "    'kernel_initializer': {'class_name': 'GlorotUniform',\n",
       "     'config': {'seed': None}},\n",
       "    'bias_initializer': {'class_name': 'Zeros', 'config': {}},\n",
       "    'kernel_regularizer': None,\n",
       "    'bias_regularizer': None,\n",
       "    'activity_regularizer': None,\n",
       "    'kernel_constraint': None,\n",
       "    'bias_constraint': None}},\n",
       "  {'class_name': 'Dense',\n",
       "   'config': {'name': 'dense_2',\n",
       "    'trainable': True,\n",
       "    'dtype': 'float32',\n",
       "    'units': 10,\n",
       "    'activation': 'softmax',\n",
       "    'use_bias': True,\n",
       "    'kernel_initializer': {'class_name': 'GlorotUniform',\n",
       "     'config': {'seed': None}},\n",
       "    'bias_initializer': {'class_name': 'Zeros', 'config': {}},\n",
       "    'kernel_regularizer': None,\n",
       "    'bias_regularizer': None,\n",
       "    'activity_regularizer': None,\n",
       "    'kernel_constraint': None,\n",
       "    'bias_constraint': None}}]}"
      ]
     },
     "execution_count": 82,
     "metadata": {},
     "output_type": "execute_result"
    }
   ],
   "source": [
    "# подробная информация о слоях\n",
    "model.get_config()"
   ]
  },
  {
   "cell_type": "code",
   "execution_count": 92,
   "metadata": {},
   "outputs": [
    {
     "data": {
      "text/plain": [
       "[array([[-0.05638211,  0.08194385,  0.01055874, ...,  0.07275433,\n",
       "          0.06246375,  0.01497343],\n",
       "        [ 0.00558947,  0.04456476, -0.06612772, ...,  0.00398041,\n",
       "          0.06126115,  0.02257146],\n",
       "        [ 0.02361027,  0.08144155, -0.0691749 , ...,  0.06652456,\n",
       "          0.05052719, -0.06141577],\n",
       "        ...,\n",
       "        [ 0.07912908, -0.01189323,  0.0050544 , ..., -0.06077412,\n",
       "         -0.01658082,  0.07119469],\n",
       "        [ 0.06188041,  0.03950415, -0.05822353, ..., -0.07076077,\n",
       "         -0.02942375, -0.06056229],\n",
       "        [ 0.05213358,  0.07517795,  0.08496037, ..., -0.0077893 ,\n",
       "         -0.04136141, -0.01151042]], dtype=float32),\n",
       " array([-0.0064659 , -0.01174064, -0.0136733 , -0.00672438,  0.00138438,\n",
       "         0.04515605, -0.00664872,  0.00716624, -0.006305  , -0.01912082,\n",
       "        -0.00548213,  0.01033243, -0.00743329, -0.00496359, -0.02379785,\n",
       "         0.01459631,  0.01003681,  0.01835761, -0.00414987,  0.002484  ,\n",
       "        -0.00282032,  0.01865459,  0.01447408,  0.02853247, -0.00095845,\n",
       "        -0.00555557,  0.01020921,  0.01351369, -0.03207263, -0.01982532,\n",
       "        -0.00599548, -0.01881205, -0.00817389, -0.0085867 ,  0.0177252 ,\n",
       "        -0.00600159,  0.01581307, -0.02755702,  0.00351646, -0.00738448,\n",
       "        -0.00953301, -0.00645619, -0.01276731, -0.00682465,  0.01067441,\n",
       "        -0.00510641, -0.02029615, -0.00869506,  0.02998211, -0.00624742,\n",
       "        -0.0382243 , -0.00512017,  0.0213986 , -0.00277441,  0.0082947 ,\n",
       "        -0.01715745,  0.00503928, -0.00893039, -0.00600471,  0.01187056,\n",
       "        -0.01265221, -0.00513495, -0.00590577, -0.00743815], dtype=float32),\n",
       " array([[ 0.04707584, -0.12315118, -0.1492614 , ...,  0.20053725,\n",
       "         -0.01815717,  0.01065926],\n",
       "        [ 0.21368234,  0.00612562,  0.07008411, ...,  0.12326555,\n",
       "          0.25113663, -0.0620201 ],\n",
       "        [ 0.1600608 , -0.04765085, -0.26689288, ..., -0.26292488,\n",
       "         -0.11409723,  0.1087495 ],\n",
       "        ...,\n",
       "        [ 0.06587602, -0.08774024, -0.12743588, ...,  0.15481369,\n",
       "          0.0927168 ,  0.0073939 ],\n",
       "        [-0.43423334, -0.2981356 ,  0.02141874, ...,  0.11880308,\n",
       "          0.12273017, -0.17656693],\n",
       "        [-0.18607849, -0.18036695, -0.09161216, ..., -0.14393525,\n",
       "         -0.26561105,  0.08803041]], dtype=float32),\n",
       " array([-0.00984395, -0.08120723, -0.04162573,  0.02159904,  0.02203614,\n",
       "        -0.0317454 , -0.00017283, -0.02075571, -0.02239374,  0.00503249,\n",
       "        -0.01188669,  0.06453986,  0.05083171,  0.06927466,  0.03605568,\n",
       "        -0.01023884,  0.02216192,  0.07154371, -0.00072979, -0.03490555,\n",
       "         0.00284433, -0.02078623, -0.03343067,  0.00155029, -0.04288181,\n",
       "        -0.04423578,  0.01055612, -0.03782477, -0.0075487 , -0.00354922,\n",
       "        -0.06324922, -0.0494236 ,  0.00525719, -0.0306761 , -0.02287194,\n",
       "         0.04485054, -0.05143277, -0.04729371, -0.04899849,  0.02268406,\n",
       "         0.05677654, -0.01109369,  0.09098477, -0.01801605, -0.00420942,\n",
       "        -0.02413028, -0.02712091, -0.04315893,  0.02671359,  0.01210035,\n",
       "         0.026638  , -0.01730089, -0.0269203 ,  0.01598965, -0.03915073,\n",
       "         0.0264748 ,  0.07617886, -0.02636181,  0.00240775,  0.01055022,\n",
       "         0.02089616, -0.0226369 , -0.0017491 , -0.02202822], dtype=float32),\n",
       " array([[ 5.15292212e-02, -2.20808774e-01, -1.16713643e-01,\n",
       "          2.29276553e-01, -2.43215531e-01,  3.18039238e-01,\n",
       "         -2.32106104e-01, -5.89068890e-01, -1.05856443e-02,\n",
       "          7.76332021e-02],\n",
       "        [ 3.57777745e-01, -1.52234674e-01,  2.13572249e-01,\n",
       "         -3.28371823e-01,  1.12063617e-01, -6.76316500e-01,\n",
       "         -2.96201974e-01,  3.66924256e-01,  6.49969429e-02,\n",
       "          1.28655881e-01],\n",
       "        [-6.92413151e-02,  2.71818697e-01,  1.61186412e-01,\n",
       "         -1.29216120e-01,  1.26499310e-01, -3.87770794e-02,\n",
       "          9.61379185e-02,  6.48074746e-02,  1.94125801e-01,\n",
       "         -1.97564989e-01],\n",
       "        [ 1.94336608e-01,  8.92736986e-02,  2.50137687e-01,\n",
       "         -1.95271239e-01, -4.12524939e-01, -4.30315644e-01,\n",
       "          2.16970026e-01, -8.56894925e-02,  2.99424350e-01,\n",
       "         -1.06785379e-01],\n",
       "        [-1.09926099e-02,  1.39038220e-01,  3.22566815e-02,\n",
       "          8.98983255e-02, -4.93431270e-01, -5.22967577e-02,\n",
       "         -1.09919362e-01, -1.78366810e-01,  1.51231904e-02,\n",
       "          7.66755864e-02],\n",
       "        [-2.63005257e-01, -1.32377092e-02, -4.17785674e-01,\n",
       "          1.04022585e-01,  4.28969301e-02,  3.34218413e-01,\n",
       "          1.07246168e-01, -3.23618561e-01, -7.21893972e-03,\n",
       "          1.57024860e-01],\n",
       "        [-3.75076771e-01,  2.12328196e-01,  6.24284893e-03,\n",
       "         -4.91352677e-02, -8.18240121e-02,  2.91696668e-01,\n",
       "         -1.19256049e-01,  1.08138002e-01,  1.47960797e-01,\n",
       "         -3.47098820e-02],\n",
       "        [ 9.49043855e-02,  3.80568147e-01, -1.05719022e-01,\n",
       "         -6.85525686e-02,  2.40437374e-01,  1.20752946e-01,\n",
       "          6.56630695e-02, -1.65488213e-01, -4.64559257e-01,\n",
       "         -1.13065980e-01],\n",
       "        [ 1.31380245e-01,  2.23395988e-01,  2.49318287e-01,\n",
       "         -1.97008893e-01,  2.67887086e-01, -1.37187913e-01,\n",
       "          1.56749740e-01,  1.40147746e-01, -5.87176085e-02,\n",
       "         -5.92240512e-01],\n",
       "        [ 8.69641379e-02, -3.99787351e-02, -2.95413792e-01,\n",
       "         -4.11140233e-01,  2.92229235e-01,  9.86630991e-02,\n",
       "          1.55929206e-02,  2.86846459e-02,  7.08500436e-03,\n",
       "         -3.49484980e-01],\n",
       "        [-3.20439637e-01,  6.67873845e-02,  8.39679763e-02,\n",
       "         -2.78639607e-02,  8.56825113e-02, -2.33487710e-01,\n",
       "          6.50222600e-02,  1.57649770e-01, -3.88204791e-02,\n",
       "         -4.80326027e-01],\n",
       "        [-1.24025337e-01,  8.10559315e-04,  1.49518102e-02,\n",
       "         -1.67950436e-01,  2.25553885e-01, -5.57639897e-01,\n",
       "         -3.06736827e-01,  1.03820711e-01,  1.17581794e-02,\n",
       "          3.64473194e-01],\n",
       "        [-2.83492744e-01, -2.67849714e-01,  1.44825235e-01,\n",
       "         -3.02684128e-01,  3.37208778e-01, -2.54674792e-01,\n",
       "         -8.50624591e-02,  5.06917052e-02,  1.44125447e-01,\n",
       "          3.18946660e-01],\n",
       "        [ 2.89093733e-01, -9.33090299e-02,  3.97810787e-02,\n",
       "          8.77790526e-02,  3.09986711e-01,  5.65048568e-02,\n",
       "          2.68600851e-01, -3.10076654e-01,  2.33757660e-01,\n",
       "          1.34040564e-01],\n",
       "        [ 1.35546792e-02, -8.18614885e-02, -2.22251013e-01,\n",
       "         -1.22047223e-01,  2.08768412e-01,  3.02343428e-01,\n",
       "         -4.38554853e-01, -1.41701803e-01, -3.32607597e-01,\n",
       "          2.64666110e-01],\n",
       "        [-2.66524523e-01, -1.92104831e-01,  2.82070756e-01,\n",
       "          1.16545767e-01, -1.53912604e-01,  2.10980371e-01,\n",
       "         -4.59514886e-01,  2.24626988e-01, -2.69829482e-01,\n",
       "          1.93487201e-02],\n",
       "        [-1.92759559e-02,  4.95385416e-02,  2.23081991e-01,\n",
       "          1.69034958e-01,  1.53143823e-01, -5.21137774e-01,\n",
       "         -4.66068625e-01,  1.08407080e-01, -3.96834165e-02,\n",
       "         -1.54797658e-01],\n",
       "        [ 2.61872411e-01, -6.66227281e-01, -7.33160615e-01,\n",
       "         -2.44328663e-01,  3.26361358e-01,  5.86997792e-02,\n",
       "          2.65835047e-01, -4.89387602e-01, -4.16047543e-01,\n",
       "          3.57937366e-01],\n",
       "        [-4.50648442e-02,  1.61521181e-01, -1.56983808e-01,\n",
       "         -3.35458398e-01, -2.45784763e-02, -1.31640565e-02,\n",
       "          3.21947008e-01,  3.30555022e-01, -2.29879379e-01,\n",
       "         -2.45808408e-01],\n",
       "        [-4.46910024e-01, -2.81752229e-01,  4.15299118e-01,\n",
       "         -1.22387923e-01, -1.52714416e-01, -1.04167774e-01,\n",
       "          8.35133120e-02,  9.06589068e-03, -3.37383091e-01,\n",
       "         -2.10910276e-01],\n",
       "        [-2.75565743e-01,  1.55230314e-01, -4.20099765e-01,\n",
       "         -5.90936184e-01, -4.12524603e-02, -8.06222036e-02,\n",
       "          2.80984700e-01, -8.07556883e-02, -9.00498033e-02,\n",
       "          1.40896231e-01],\n",
       "        [ 3.26936990e-01, -1.71277583e-01,  2.00638741e-01,\n",
       "         -1.80321842e-01, -1.43221736e-01,  2.11933956e-01,\n",
       "          4.60274220e-02,  7.98859969e-02,  2.29281679e-01,\n",
       "          7.00393096e-02],\n",
       "        [ 4.27313671e-02,  1.09811030e-01,  1.06683843e-01,\n",
       "         -1.16925642e-01, -2.84747362e-01,  1.26612887e-01,\n",
       "         -3.69986072e-02, -6.99370131e-02, -2.30239481e-01,\n",
       "          4.28927550e-03],\n",
       "        [-6.68824315e-01, -1.62134826e-01, -1.27053678e-01,\n",
       "          3.51185173e-01, -8.81479904e-02,  2.20025003e-01,\n",
       "         -8.90942991e-01, -8.00414532e-02, -3.57699813e-03,\n",
       "          3.00197661e-01],\n",
       "        [-2.70578057e-01,  1.99747697e-01, -1.69720680e-01,\n",
       "          8.51998702e-02, -1.26192957e-01, -1.87218383e-01,\n",
       "          2.64786661e-01,  7.52981901e-02, -2.72640675e-01,\n",
       "         -9.71314758e-02],\n",
       "        [-2.47317523e-01,  1.04367658e-02,  1.12710841e-01,\n",
       "         -2.86268797e-02, -2.78142482e-01,  9.61566642e-02,\n",
       "         -1.68932572e-01,  1.55970365e-01, -1.66831359e-01,\n",
       "         -4.77365822e-01],\n",
       "        [ 2.41196319e-01,  3.67588252e-01, -2.09652364e-01,\n",
       "          1.41190618e-01,  3.65849555e-01,  2.42729962e-01,\n",
       "         -6.25618622e-02, -3.26501995e-01,  1.00077808e-01,\n",
       "         -2.30833516e-02],\n",
       "        [-3.92587364e-01,  7.00858757e-02, -2.32453942e-01,\n",
       "          4.11824554e-01, -5.61952710e-01, -1.40099540e-01,\n",
       "         -4.22099352e-01,  4.07099165e-02,  1.45399226e-02,\n",
       "         -1.62847623e-01],\n",
       "        [ 1.20162278e-01, -3.79988790e-01, -4.80662346e-01,\n",
       "         -2.62352884e-01,  3.49078894e-01, -5.92613697e-01,\n",
       "          9.47708189e-02,  4.55422014e-01, -7.03116208e-02,\n",
       "          2.57229120e-01],\n",
       "        [-6.22476600e-02, -3.00970584e-01, -3.05521656e-02,\n",
       "         -2.46079415e-01, -3.02245896e-02, -1.34799153e-01,\n",
       "         -3.01186711e-01,  1.70975402e-01,  1.53664678e-01,\n",
       "          9.19632316e-02],\n",
       "        [-3.21271688e-01,  1.59744229e-02, -2.31806245e-02,\n",
       "         -1.00665905e-01, -2.53748119e-01,  3.00895423e-01,\n",
       "          3.81628215e-01,  2.48760864e-01,  3.96257564e-02,\n",
       "          2.41907984e-01],\n",
       "        [-1.81794092e-01, -2.66391449e-02, -5.03428653e-02,\n",
       "         -3.76166999e-02, -2.65960358e-02, -1.57599270e-01,\n",
       "          5.33619113e-02,  1.37148395e-01, -2.14275315e-01,\n",
       "          9.36311558e-02],\n",
       "        [-2.42120326e-01, -1.29406244e-01, -2.18701869e-01,\n",
       "         -3.04385841e-01, -3.16280454e-01, -3.98651540e-01,\n",
       "          5.44475345e-03,  3.18645567e-01,  1.00233093e-01,\n",
       "         -2.28118464e-01],\n",
       "        [-1.87684640e-01, -7.76953101e-02,  3.69689912e-02,\n",
       "          1.58347175e-01,  1.45287767e-01, -1.14152201e-01,\n",
       "         -2.78696865e-01,  2.08707452e-01,  2.02360466e-01,\n",
       "          2.27152258e-01],\n",
       "        [ 1.37498632e-01, -1.41216204e-01, -2.41916358e-01,\n",
       "          9.79035646e-02, -8.63104165e-02, -1.81974232e-01,\n",
       "         -2.36236632e-01,  1.74463838e-01, -3.39498848e-01,\n",
       "         -3.46439220e-02],\n",
       "        [ 1.97639495e-01, -3.53395671e-01, -8.19469094e-02,\n",
       "         -2.64100164e-01, -1.16109990e-01,  7.48875737e-02,\n",
       "          4.23551612e-02, -2.54140496e-01,  2.54520416e-01,\n",
       "          1.41800493e-01],\n",
       "        [-1.48791177e-02, -2.00648725e-01, -8.57793391e-02,\n",
       "         -2.55642444e-01, -1.32325336e-01,  1.86714947e-01,\n",
       "         -3.43342833e-02, -1.82101607e-01,  5.81229813e-02,\n",
       "          9.73097309e-02],\n",
       "        [ 1.50991708e-01, -9.57037210e-02, -3.36018652e-01,\n",
       "         -9.44056958e-02, -5.48166692e-01,  1.83965310e-01,\n",
       "          4.18875627e-02,  3.13533962e-01,  1.33420765e-01,\n",
       "         -9.04741362e-02],\n",
       "        [-2.51005709e-01,  1.62911788e-01,  3.57476622e-01,\n",
       "         -3.48687209e-02,  2.41014697e-02,  2.37002388e-01,\n",
       "         -2.63152570e-01,  1.20054163e-01, -1.82784468e-01,\n",
       "         -2.72729307e-01],\n",
       "        [-2.39354625e-01, -8.58592018e-02,  8.13893005e-02,\n",
       "         -1.14913628e-01,  1.24948628e-01, -4.98947829e-01,\n",
       "          6.42379105e-01, -2.32695765e-03, -1.28331244e-01,\n",
       "         -2.79624999e-01],\n",
       "        [-3.15461248e-01,  2.26411775e-01,  2.29197696e-01,\n",
       "          2.62168229e-01, -1.80609673e-01, -6.24792688e-02,\n",
       "          1.11224480e-01, -2.99214393e-01,  3.80560428e-01,\n",
       "         -3.74136388e-01],\n",
       "        [-4.67038512e-01,  2.98341364e-01, -1.90949410e-01,\n",
       "          2.30975762e-01,  1.85190350e-01, -2.26069931e-02,\n",
       "         -4.19659197e-01,  1.37448713e-01, -2.73725158e-03,\n",
       "          1.21309474e-01],\n",
       "        [-4.39973563e-01, -2.28206336e-01, -4.42559987e-01,\n",
       "          1.38525041e-02,  3.34932059e-01,  3.11604649e-01,\n",
       "         -1.86810672e-01, -1.92385092e-01,  3.68030190e-01,\n",
       "          8.71695206e-02],\n",
       "        [ 9.18649808e-02, -5.40987909e-01, -2.63492465e-01,\n",
       "          1.33150607e-01, -3.36339951e-01, -7.18464777e-02,\n",
       "         -3.78573611e-02, -3.52801800e-01, -1.05904847e-01,\n",
       "          5.56141138e-03],\n",
       "        [-4.19049174e-01, -5.00348270e-01,  1.01595677e-01,\n",
       "          7.82965273e-02,  1.41708940e-01, -3.18648934e-01,\n",
       "         -5.64657561e-02,  2.95266490e-02, -3.18765640e-01,\n",
       "         -7.75219724e-02],\n",
       "        [-7.36332312e-02,  4.32570636e-01,  6.66749850e-02,\n",
       "         -4.13779855e-01,  2.36796349e-01, -3.54663610e-01,\n",
       "         -2.24886432e-01,  3.94575268e-01,  9.77402106e-02,\n",
       "         -4.00462806e-01],\n",
       "        [-1.23939455e-01,  7.98291415e-02,  1.54558316e-01,\n",
       "          1.16507202e-01, -2.16080919e-01,  3.03215355e-01,\n",
       "          9.46474150e-02, -3.01576465e-01,  1.51511999e-02,\n",
       "         -4.57679689e-01],\n",
       "        [ 1.09236734e-02,  1.27681317e-02, -2.74788477e-02,\n",
       "          4.55119424e-02,  1.87271256e-02,  3.25198978e-01,\n",
       "          2.55203664e-01, -3.76894265e-01, -1.07213616e-01,\n",
       "         -4.42619562e-01],\n",
       "        [ 3.21806282e-01, -4.54820693e-01, -1.33431047e-01,\n",
       "         -3.57875265e-02,  3.40098113e-01,  1.58867147e-02,\n",
       "          3.55409980e-01,  1.06655642e-01, -1.25330046e-01,\n",
       "          1.46807641e-01],\n",
       "        [ 1.86699644e-01,  3.26611757e-01, -2.02311590e-01,\n",
       "         -1.28287688e-01,  3.00332755e-01, -2.97639251e-01,\n",
       "         -3.16394985e-01, -8.40767175e-02,  4.91507202e-02,\n",
       "          3.92300814e-01],\n",
       "        [-3.23193103e-01, -3.58463079e-02, -1.45945221e-01,\n",
       "         -2.65972883e-01,  3.86589348e-01,  2.57813573e-01,\n",
       "          1.83910951e-01, -1.77887514e-01, -3.52571517e-01,\n",
       "          3.47062498e-01],\n",
       "        [ 1.83692366e-01, -1.16384499e-01, -2.44641438e-01,\n",
       "          1.69919983e-01, -3.03586423e-01,  8.30999762e-02,\n",
       "         -4.51821759e-02, -1.53882667e-01, -8.79861563e-02,\n",
       "          4.51224707e-02],\n",
       "        [ 2.70289481e-01,  2.12188274e-01, -2.17224024e-02,\n",
       "          1.32390350e-01, -3.38626504e-01,  2.67493576e-01,\n",
       "          3.13079566e-01, -1.94602117e-01, -3.68366361e-01,\n",
       "          7.20996968e-03],\n",
       "        [ 1.46868467e-01, -3.16455662e-01,  8.04248899e-02,\n",
       "          2.36889794e-01, -6.86931238e-02, -3.33871633e-01,\n",
       "         -6.65010661e-02,  4.02876288e-02,  2.47363999e-01,\n",
       "          3.31011713e-01],\n",
       "        [ 7.58516341e-02,  3.18396717e-01, -1.84928954e-01,\n",
       "         -2.33048975e-01,  2.83789814e-01, -1.84958473e-01,\n",
       "          6.48441613e-02,  1.31073490e-01, -4.62471962e-01,\n",
       "         -8.42509791e-02],\n",
       "        [ 1.20652206e-01, -3.66970897e-01,  1.00921892e-01,\n",
       "          7.13282675e-02, -1.24048784e-01,  1.41088694e-01,\n",
       "         -2.98979193e-01,  1.59017161e-01,  9.18428600e-02,\n",
       "          1.52385011e-01],\n",
       "        [-3.77993971e-01, -1.63066760e-01, -1.60689175e-01,\n",
       "          3.34042996e-01,  9.02848169e-02, -2.12262228e-01,\n",
       "         -3.09189290e-01,  6.84475005e-02,  6.98110536e-02,\n",
       "          1.63084045e-01],\n",
       "        [ 3.53448689e-01,  7.26965740e-02,  4.09394145e-01,\n",
       "         -1.07134111e-01,  5.90626895e-02, -3.51751089e-01,\n",
       "          2.30617449e-02,  1.37277348e-02, -6.31299555e-01,\n",
       "          2.40658730e-01],\n",
       "        [ 1.82260439e-01,  1.25061810e-01, -3.03038567e-01,\n",
       "          2.31314883e-01, -3.45725417e-01,  1.64105788e-01,\n",
       "         -1.26301140e-01, -8.28452259e-02, -7.26057112e-01,\n",
       "         -2.18542404e-02],\n",
       "        [-1.21246226e-01, -3.67892861e-01,  2.92015195e-01,\n",
       "          3.89860392e-01,  8.78734961e-02,  7.70530626e-02,\n",
       "          1.27648935e-01,  1.13700991e-02, -2.27198914e-01,\n",
       "         -2.11571846e-02],\n",
       "        [ 2.88985521e-01, -2.75316536e-01,  4.05752584e-02,\n",
       "         -2.62729824e-02, -1.53665230e-01, -3.53503853e-01,\n",
       "          3.13221902e-01,  7.56998882e-02,  1.75384536e-01,\n",
       "         -3.02016526e-01],\n",
       "        [ 2.50078887e-01,  2.01077491e-01, -2.36512497e-02,\n",
       "         -3.55601639e-01, -1.65941775e-01, -3.07594985e-01,\n",
       "          2.65493333e-01,  1.06673025e-01,  1.95845077e-03,\n",
       "         -2.31641099e-01],\n",
       "        [ 2.06516534e-01,  7.75251687e-02,  5.62833771e-02,\n",
       "         -3.08454167e-02, -1.64592668e-01, -7.07076490e-02,\n",
       "          2.71476984e-01, -1.48333281e-01,  2.84103632e-01,\n",
       "         -4.64839280e-01],\n",
       "        [-1.07070945e-01, -2.48836309e-01,  1.09717302e-01,\n",
       "         -3.13059501e-02, -1.35321796e-01, -5.33669442e-02,\n",
       "         -4.18095559e-01,  3.93620968e-01, -4.15459797e-02,\n",
       "          1.58765763e-01]], dtype=float32),\n",
       " array([-0.06143661, -0.09073968, -0.02244931,  0.06425614, -0.0102445 ,\n",
       "        -0.02212924, -0.04694756, -0.00294161,  0.08542917,  0.03672206],\n",
       "       dtype=float32)]"
      ]
     },
     "execution_count": 92,
     "metadata": {},
     "output_type": "execute_result"
    }
   ],
   "source": [
    "# веса модели\n",
    "model.get_weights()"
   ]
  }
 ],
 "metadata": {
  "kernelspec": {
   "display_name": "Python 3",
   "language": "python",
   "name": "python3"
  },
  "language_info": {
   "codemirror_mode": {
    "name": "ipython",
    "version": 3
   },
   "file_extension": ".py",
   "mimetype": "text/x-python",
   "name": "python",
   "nbconvert_exporter": "python",
   "pygments_lexer": "ipython3",
   "version": "3.7.3"
  }
 },
 "nbformat": 4,
 "nbformat_minor": 2
}
