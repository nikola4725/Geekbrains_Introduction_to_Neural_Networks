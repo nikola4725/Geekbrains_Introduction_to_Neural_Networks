{
 "cells": [
  {
   "cell_type": "markdown",
   "metadata": {},
   "source": [
    "## Урок 7. Дектирование объектов"
   ]
  },
  {
   "cell_type": "markdown",
   "metadata": {},
   "source": [
    "### Практическое задание"
   ]
  },
  {
   "cell_type": "markdown",
   "metadata": {},
   "source": [
    "**1. Сделайте краткий обзор какой-нибудь научной работы посвященной тому или иному алгоритму для object detection, который не рассматривался на уроке. Проведите анализ: Чем отличается выбранная вами на рассмотрение архитектура нейронной сети от других архитектур? В чем плюсы и минусы данной архитектуры? Какие могут возникнуть трудности при применении данной архитектуры на практике?**"
   ]
  },
  {
   "cell_type": "markdown",
   "metadata": {},
   "source": [
    "**EfficientDet** - масштабируемое и эффективное обнаружение объектов  \n",
    "источники:  \n",
    "https://github.com/google/automl/tree/master/efficientdet  \n",
    "https://arxiv.org/pdf/1911.09070.pdf  \n",
    "https://habr.com/ru/post/503766/"
   ]
  },
  {
   "cell_type": "markdown",
   "metadata": {},
   "source": [
    "Общая архитектура EfficientDet в значительной степени соответствует парадигме одноступенчатых (one-stage) детекторов. За основу взята EfficientNet(класс моделей, который получился из изучения масштабирования scaling моделей и балансирования между собой глубины и ширины (количества каналов) сети, а также разрешения изображений в сети), предобученная на ImageNet, к ней приделан слой со взвешенной двунаправленной пирамидой признаков (BiFPN - позволяет повысить эффективность модели за счет удаления потенциально \"лишних\" узлов и добавления дополнительных ребер из исходного в выходной узел, чтобы объединить больше функций без дополнительных затрат), за которым идёт классовая и блочная сеть для генерации предсказаний класса объекта и ограничивающего прямоугольника соответственно."
   ]
  },
  {
   "cell_type": "markdown",
   "metadata": {},
   "source": [
    "![](https://raw.githubusercontent.com/google/automl/master/efficientdet/g3doc/network.png)"
   ]
  },
  {
   "cell_type": "markdown",
   "metadata": {},
   "source": [
    "Также в EfficientDet используется нормализованное relu (Relu(w[i])/(sum(Relu(w[k])) + 0.001)\n",
    "где sum Суммирует по всем k) вместо SoftMax, в основе которой лежит метод быстрой нормализации слияния, который обеспечивает такую же точность, что и слияние на основе Softmax, но работает быстрее в 1,26-1,31 раза на графических процессорах."
   ]
  },
  {
   "cell_type": "markdown",
   "metadata": {},
   "source": [
    "Помимо этого, была улучшена производительность в классификации изображений с помощью совместного увеличения всех размеров сети, глубины и входного разрешения."
   ]
  },
  {
   "cell_type": "markdown",
   "metadata": {},
   "source": [
    "Благодаря всему этому, новое семейство детекторов под названием EfficientDet, последовательно достигает большей точности и эффективности, чем предшествующий уровень техники, при широком спектре ограничений по ресурсам. Так, например, по заявлению разработчиков, EfficientDet-D7 достигает современной точности с меньшим количеством параметров и FLOPS, чем лучший из существующих детекторов. EfficientDet также в 3,2 раза быстрее на GPU и в 8,1 раза быстрее на CPU."
   ]
  },
  {
   "cell_type": "markdown",
   "metadata": {},
   "source": [
    "![](https://github.com/google/automl/raw/master/efficientdet/g3doc/flops.png)"
   ]
  },
  {
   "cell_type": "markdown",
   "metadata": {},
   "source": [
    "Но это все в теории. На практике все оказывается не так радужно."
   ]
  },
  {
   "cell_type": "markdown",
   "metadata": {},
   "source": [
    "Так, например, авторы EfficientDet уточняют, что FPS-скорость для Yolov3 они взяли из yolo-статьи, где её измеряли на TitanX/M40 maxwell, а FPS-скорость для EfficientDet они измеряли на TitanV volta, которая на 2 поколения новее и в несколько раз быстрее. Только поэтому в их отчете EfficientDet получилась чуть лучше по скорости и точности, чем старая Yolov3."
   ]
  },
  {
   "cell_type": "markdown",
   "metadata": {},
   "source": [
    "![](https://habrastorage.org/webt/vp/3p/zd/vp3pzd9kl84cs-pvdok1fp_b8mq.png)"
   ]
  },
  {
   "cell_type": "markdown",
   "metadata": {},
   "source": [
    "По сути, авторы EfficientDet разработали эффективную с точки зрения формальных параметров BFLOPS, но не эффективную с точки зрения производительности, поэтому в последствии, Google отказались от большинства фич, которые радикально уменьшают BFLOPS  \n",
    "https://ai.googleblog.com/2019/08/efficientnet-edgetpu-creating.html"
   ]
  },
  {
   "cell_type": "markdown",
   "metadata": {},
   "source": [
    "Итого: возможно в каких-то специализированных задачах, для которых она изначально и задумывалась авторами, EfficientDet и будет иметь преимущества, но на данный момент существуют более универсальные и оптимальные с точки зрения быстродейтствия на GPU/NPU/VPU/TPU конкуренты (например YOLOv4)"
   ]
  },
  {
   "cell_type": "markdown",
   "metadata": {},
   "source": [
    "Пример визуализации работы EfficientDet-D0"
   ]
  },
  {
   "cell_type": "markdown",
   "metadata": {},
   "source": [
    "![](https://github.com/google/automl/raw/master/efficientdet/g3doc/street.jpg)"
   ]
  }
 ],
 "metadata": {
  "kernelspec": {
   "display_name": "Python 3",
   "language": "python",
   "name": "python3"
  },
  "language_info": {
   "codemirror_mode": {
    "name": "ipython",
    "version": 3
   },
   "file_extension": ".py",
   "mimetype": "text/x-python",
   "name": "python",
   "nbconvert_exporter": "python",
   "pygments_lexer": "ipython3",
   "version": "3.7.3"
  }
 },
 "nbformat": 4,
 "nbformat_minor": 2
}
